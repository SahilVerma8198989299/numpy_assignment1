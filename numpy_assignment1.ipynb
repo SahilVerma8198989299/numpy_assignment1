{
 "cells": [
  {
   "cell_type": "markdown",
   "id": "3ee8fbed-13e3-43ec-91a1-cd6362bd597a",
   "metadata": {},
   "source": [
    "Q1. Is there any difference in the data type of variables list_ and array_list? If there is then write a code\n",
    "to print the data types of both the variables."
   ]
  },
  {
   "cell_type": "raw",
   "id": "9f4b2020-c7a5-4e76-aef1-a89ca5315a46",
   "metadata": {},
   "source": [
    "A list is a built-in Python data type that can hold a collection of items. It is a flexible container that can hold items of different data types.\n",
    "\n",
    "An array typically refers to the array module in Python, which provides a way to create arrays that are more efficient in terms of storage and operations compared to lists. However, arrays created using the array module are limited to holding items of the same data type."
   ]
  },
  {
   "cell_type": "code",
   "execution_count": 1,
   "id": "0d80e68f-c4d3-43b9-be87-6397b412efb5",
   "metadata": {},
   "outputs": [
    {
     "name": "stdout",
     "output_type": "stream",
     "text": [
      "Data type of list_: <class 'list'>\n",
      "Data type of array_list: <class 'array.array'>\n"
     ]
    }
   ],
   "source": [
    "from array import array\n",
    "\n",
    "# Create a list\n",
    "list_ = [1, 2, 3, 4, 5]\n",
    "\n",
    "# Create an array\n",
    "array_list = array('i', [1, 2, 3, 4, 5])\n",
    "\n",
    "# Print the data types of both variables\n",
    "print(\"Data type of list_:\", type(list_))\n",
    "print(\"Data type of array_list:\", type(array_list))\n"
   ]
  },
  {
   "cell_type": "markdown",
   "id": "8b5f9bf3-09a7-437e-8a2e-a1c86302a4c3",
   "metadata": {},
   "source": [
    "Q2. Write a code to print the data type of each and every element of both the variables list_ and\n",
    "arra_list."
   ]
  },
  {
   "cell_type": "code",
   "execution_count": 2,
   "id": "acfbf542-f8bd-4a49-af81-5c4371b8ff36",
   "metadata": {},
   "outputs": [
    {
     "name": "stdout",
     "output_type": "stream",
     "text": [
      "Data type of each element in list_:\n",
      "<class 'int'>\n",
      "<class 'int'>\n",
      "<class 'int'>\n",
      "<class 'int'>\n",
      "<class 'int'>\n",
      "\n",
      "Data type of each element in array_list:\n",
      "<class 'int'>\n",
      "<class 'int'>\n",
      "<class 'int'>\n",
      "<class 'int'>\n",
      "<class 'int'>\n"
     ]
    }
   ],
   "source": [
    "from array import array\n",
    "\n",
    "# Create a list\n",
    "list_ = [1, 2, 3, 4, 5]\n",
    "\n",
    "# Create an array\n",
    "array_list = array('i', [1, 2, 3, 4, 5])\n",
    "\n",
    "# Print the data type of each element in list_\n",
    "print(\"Data type of each element in list_:\")\n",
    "for item in list_:\n",
    "    print(type(item))\n",
    "\n",
    "# Print the data type of each element in array_list\n",
    "print(\"\\nData type of each element in array_list:\")\n",
    "for item in array_list:\n",
    "    print(type(item))\n"
   ]
  },
  {
   "cell_type": "raw",
   "id": "865089b8-383b-4f51-87c5-8ef9dd57d6ff",
   "metadata": {},
   "source": [
    "Q3. Considering the following changes in the variable, array_list:\n",
    "array_list = np.array(object = list_, dtype = int)\n",
    "Will there be any difference in the data type of the elements present in both the variables, list_ and\n",
    "arra_list? If so then print the data types of each and every element present in both the variables, list_\n",
    "and arra_list.\n",
    "Consider the below code to answer further questions:\n",
    "import numpy as np\n",
    "num_list = [ [ 1 , 2 , 3 ] , [ 4 , 5 , 6 ] ]\n",
    "num_array = np.array(object = num_list)"
   ]
  },
  {
   "cell_type": "raw",
   "id": "b872c00a-0c59-457c-878d-a717c1b23154",
   "metadata": {},
   "source": [
    "In the original code, list_ is a Python list, so its elements are of the type int. However, when list_ is converted to a NumPy array using np.array(object=list_, dtype=int), the elements are explicitly converted to NumPy integers (numpy.int32 or numpy.int64 depending on the platform) even if they were originally regular Python integers."
   ]
  },
  {
   "cell_type": "code",
   "execution_count": 3,
   "id": "1a6d96cb-7418-4536-9959-83274acd8107",
   "metadata": {},
   "outputs": [
    {
     "name": "stdout",
     "output_type": "stream",
     "text": [
      "Data type of each element in list_:\n",
      "<class 'int'>\n",
      "<class 'int'>\n",
      "<class 'int'>\n",
      "<class 'int'>\n",
      "<class 'int'>\n",
      "\n",
      "Data type of each element in array_list:\n",
      "<class 'numpy.int32'>\n",
      "<class 'numpy.int32'>\n",
      "<class 'numpy.int32'>\n",
      "<class 'numpy.int32'>\n",
      "<class 'numpy.int32'>\n"
     ]
    }
   ],
   "source": [
    "import numpy as np\n",
    "\n",
    "# Original list\n",
    "list_ = [1, 2, 3, 4, 5]\n",
    "\n",
    "# Convert list_ to NumPy array with dtype=int\n",
    "array_list = np.array(object=list_, dtype=int)\n",
    "\n",
    "# Print the data type of each element in list_\n",
    "print(\"Data type of each element in list_:\")\n",
    "for item in list_:\n",
    "    print(type(item))\n",
    "\n",
    "# Print the data type of each element in array_list\n",
    "print(\"\\nData type of each element in array_list:\")\n",
    "for item in array_list:\n",
    "    print(type(item))\n"
   ]
  },
  {
   "cell_type": "markdown",
   "id": "0c4d8d11-ddc8-46b1-b2ab-2a554739a3a9",
   "metadata": {},
   "source": [
    "Q4. Write a code to find the following characteristics of variable, num_array:\n",
    "(i) shape\n",
    "(ii) size"
   ]
  },
  {
   "cell_type": "code",
   "execution_count": 5,
   "id": "91aa2d18-7dd6-41ea-8bdc-03cd0dcdd241",
   "metadata": {},
   "outputs": [
    {
     "name": "stdout",
     "output_type": "stream",
     "text": [
      "Shape of num_array: (3, 2)\n",
      "Size of num_array: 6\n"
     ]
    }
   ],
   "source": [
    "import numpy as np\n",
    "\n",
    "num_list = [[1, 2, 3], [4, 5, 6]]\n",
    "num_array = np.array(num_list).reshape(3,2)\n",
    "\n",
    "# Find the shape of num_array\n",
    "shape = num_array.shape\n",
    "\n",
    "# Find the size of num_array\n",
    "size = num_array.size\n",
    "\n",
    "print(\"Shape of num_array:\", shape)\n",
    "print(\"Size of num_array:\", size)\n"
   ]
  },
  {
   "cell_type": "markdown",
   "id": "1b9d4368-c284-44ff-8ad5-2ba5cf6173b8",
   "metadata": {},
   "source": [
    "Q5. Write a code to create numpy array of 3*3 matrix containing zeros only, using a numpy array\n",
    "creation function."
   ]
  },
  {
   "cell_type": "code",
   "execution_count": 7,
   "id": "9322346a-952d-4097-af2b-6b0580229b9f",
   "metadata": {},
   "outputs": [
    {
     "data": {
      "text/plain": [
       "array([[0., 0., 0.],\n",
       "       [0., 0., 0.],\n",
       "       [0., 0., 0.]])"
      ]
     },
     "execution_count": 7,
     "metadata": {},
     "output_type": "execute_result"
    }
   ],
   "source": [
    "np.zeros((3,3))"
   ]
  },
  {
   "cell_type": "markdown",
   "id": "24ded681-18e2-48d9-99de-79b99361ce58",
   "metadata": {},
   "source": [
    "Q6. Create an identity matrix of shape (5,5) using numpy functions?"
   ]
  },
  {
   "cell_type": "code",
   "execution_count": 8,
   "id": "08a6dbd1-b112-4ec7-a820-aeb421dbc8c9",
   "metadata": {},
   "outputs": [
    {
     "data": {
      "text/plain": [
       "array([[1., 1., 1., 1., 1.],\n",
       "       [1., 1., 1., 1., 1.],\n",
       "       [1., 1., 1., 1., 1.],\n",
       "       [1., 1., 1., 1., 1.],\n",
       "       [1., 1., 1., 1., 1.]])"
      ]
     },
     "execution_count": 8,
     "metadata": {},
     "output_type": "execute_result"
    }
   ],
   "source": [
    "np.ones((5,5))"
   ]
  },
  {
   "cell_type": "code",
   "execution_count": null,
   "id": "111ab0b2-e085-4f00-832e-224fd32d2658",
   "metadata": {},
   "outputs": [],
   "source": []
  }
 ],
 "metadata": {
  "kernelspec": {
   "display_name": "Python 3 (ipykernel)",
   "language": "python",
   "name": "python3"
  },
  "language_info": {
   "codemirror_mode": {
    "name": "ipython",
    "version": 3
   },
   "file_extension": ".py",
   "mimetype": "text/x-python",
   "name": "python",
   "nbconvert_exporter": "python",
   "pygments_lexer": "ipython3",
   "version": "3.11.7"
  }
 },
 "nbformat": 4,
 "nbformat_minor": 5
}
